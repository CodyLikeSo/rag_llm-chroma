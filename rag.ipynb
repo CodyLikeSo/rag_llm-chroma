{
 "cells": [
  {
   "cell_type": "code",
   "execution_count": 53,
   "metadata": {},
   "outputs": [],
   "source": [
    "from langchain.text_splitter import RecursiveCharacterTextSplitter\n",
    "from langchain_core.output_parsers import StrOutputParser\n",
    "from langchain.prompts import PromptTemplate\n",
    "from langchain.vectorstores import Chroma\n",
    "from langchain.document_loaders import CSVLoader\n",
    "\n",
    "from langchain_community.embeddings import OllamaEmbeddings\n",
    "from langchain_community.llms import Ollama"
   ]
  },
  {
   "cell_type": "code",
   "execution_count": 54,
   "metadata": {},
   "outputs": [],
   "source": [
    "loader = CSVLoader('data_input/test.csv')\n",
    "big_df = loader.load()"
   ]
  },
  {
   "cell_type": "code",
   "execution_count": 55,
   "metadata": {},
   "outputs": [],
   "source": [
    "text_splitter = RecursiveCharacterTextSplitter(\n",
    "    chunk_size = 5000,\n",
    "    chunk_overlap = 100,\n",
    "    length_function = len,\n",
    "    add_start_index = True\n",
    ")"
   ]
  },
  {
   "cell_type": "code",
   "execution_count": 56,
   "metadata": {},
   "outputs": [],
   "source": [
    "chunks = text_splitter.split_documents(big_df)"
   ]
  },
  {
   "cell_type": "code",
   "execution_count": 57,
   "metadata": {},
   "outputs": [],
   "source": [
    "embedings = OllamaEmbeddings(\n",
    "    model='all-minilm'\n",
    ")"
   ]
  },
  {
   "cell_type": "code",
   "execution_count": 58,
   "metadata": {},
   "outputs": [],
   "source": [
    "chromadb = Chroma.from_documents(chunks, embedings, persist_directory = 'vector_db', collection_name= 'vectors_test')"
   ]
  },
  {
   "cell_type": "code",
   "execution_count": 59,
   "metadata": {},
   "outputs": [],
   "source": [
    "# Prompt\n",
    "template = \"\"\"\n",
    "Answer the question based on the context below. If you can't \n",
    "answer the question, reply \"I don't know\".\n",
    "\n",
    "Conversation_history: {conversation_history}\n",
    "\n",
    "Context: {context}\n",
    "\n",
    "Question: {question}\n",
    "\"\"\"\n",
    "\n",
    "prompt = PromptTemplate.from_template(template)"
   ]
  },
  {
   "cell_type": "code",
   "execution_count": 60,
   "metadata": {},
   "outputs": [],
   "source": [
    "# Chain\n",
    "MODEL = 'llama2'\n",
    "model = Ollama(model=MODEL)\n",
    "parser = StrOutputParser()\n",
    "retriever = chromadb.as_retriever()\n",
    "\n",
    "from operator import itemgetter\n",
    "\n",
    "# chain = (\n",
    "#     {\n",
    "#         \"context\": itemgetter(\"question\") | retriever,\n",
    "#         \"conversation_history\": itemgetter(\"conversation_history\"),\n",
    "#         \"question\": itemgetter(\"question\"),\n",
    "#     }\n",
    "#     | prompt\n",
    "#     | model\n",
    "#     | parser\n",
    "# )"
   ]
  },
  {
   "cell_type": "code",
   "execution_count": 69,
   "metadata": {},
   "outputs": [],
   "source": [
    "query = 'tell us about the Bulldog messenger near Liege?'"
   ]
  },
  {
   "cell_type": "code",
   "execution_count": 70,
   "metadata": {},
   "outputs": [],
   "source": [
    "retriever = chromadb.as_retriever()"
   ]
  },
  {
   "cell_type": "code",
   "execution_count": 71,
   "metadata": {},
   "outputs": [],
   "source": [
    "answer = retriever.invoke(query)"
   ]
  },
  {
   "cell_type": "code",
   "execution_count": 72,
   "metadata": {},
   "outputs": [
    {
     "data": {
      "text/plain": [
       "[Document(page_content='url: https://lenta.ru/news/1914/09/16/lermontov/\\ntitle: 1914. Празднование столетия М.Ю. Лермонтова отложено\\ntext: Министерство народного просвещения, в виду происходящих чрезвычайных событий, признало соответственным в день годовщины со дня рождения М.Ю. Лермонтова (2-го октября 1914 года) ограничиться совершением в учебных заведениях панихиды по поэту, отложив празднование юбилея до более благоприятного времени.  \\n«Русский инвалид», 16 сентября 1914 года.\\ntopic: Библиотека\\ntags: Первая мировая\\ndate: 1914/09/16', metadata={'row': 1, 'source': 'data_input/test.csv', 'start_index': 0}),\n",
       " Document(page_content='url: https://lenta.ru/news/1999/09/06/kama/\\ntitle: В Каму вытекло 100\\xa0тонн мазута\\ntext: В результате произошедшего у пристани Дербешки (Татарстан) в ночь с субботы на воскресенье столкновения грузового теплохода \"ОТА-855\", груженого технической солью, и баржи \"Бельская-65\" с нефтепродуктами, в Каму вытекло более ста тонн мазута, - сообщает ИТАР-ТАСС со ссылкой на МЧС Татарстана. Экипаж баржи принял экстренные меры: остатки горючего из поврежденного танка (около 190 тонн) были откачаны в другую емкость, утечка топлива в реку была остановлена. Вдоль борта баржи были выставлены боновые заграждаения. Однако мазутное пятно площадью 2,4 квадратных километра движется вниз по течению. В 7,5 километрах от места аварии также выставлены 2 ряда боновых заграждений. На место происшествия прибыл вертолет МЧС Татарстана с оперативной групой спасателей во главе с министром Валерием Власовым. Приступил к работе нефтесборщик АО \"Башволготанкер\".На помощь для сбора мазута из воды привлечены войсковая часть из Набережных Челнов, аварийные бригады нефтегазодобывающих управлений \"Прикамнефть\" и \"Заинскнефть\". В ликвидации последствий аварии задействовано 97 человек, 21 единица тахники.\\ntopic: Россия\\ntags: Все\\ndate: 1999/09/06', metadata={'row': 82, 'source': 'data_input/test.csv', 'start_index': 0}),\n",
       " Document(page_content='url: https://lenta.ru/news/1999/09/14/duma/\\ntitle: Последние события в\\xa0Москве и\\xa0в Дагестане изменили расписание работы Госдумы\\ntext: Последние события в Дагестане, террористические акты в Москве и Буйнакске внесли изменения в расписание работы осенней сессии Государственной Думы. Первое пленарное заседание сессии откроется сегодня не в 10 часов, как планировалось ранее, а в 16 часов. Думские комитеты по обороне, по безопасности, по бюджету, по делам национальностей готовят проект постановления палаты.Заседанию Госдумы будет предшествовать внеочередное заседаниеСовета палаты, которое откроется в 10 часов. Заседание начнется с обсуждения ситуации в стране в связис событиями в Дагестане и взрывами в Москве и Буйнакске. Такоерешение принял накануне Совет Думы. На заседание палаты,которое после открытия сессии пройдет в закрытом режиме, т.е. без участия прессы, решено пригласить президента Бориса Ельцина, председателяправительства Владимира Путина, силовых министров, мэра Москвы Юрия Лужкова, начальника ГУВД Москвы и начальника УФСБ по Москве и Московской области, председателя Совета Федерации Егора Строева, а так же руководителей Дагестана.\\ntopic: Россия\\ntags: Все\\ndate: 1999/09/14', metadata={'row': 228, 'source': 'data_input/test.csv', 'start_index': 0}),\n",
       " Document(page_content='url: https://lenta.ru/news/1999/09/13/traur/\\ntitle: 13\\xa0сентября\\xa0— день траура по\\xa0погибшим от\\xa0взрывов в\\xa0Москве и\\xa0Буйнакске\\ntext: Сегодня в России объявлен траур в связи с трагическими последствиями взрывов в Москве и Буйнакске. Соответствующий указ был подписан в минувшую пятницу президентом России Борисом Ельциным. Взрыв в военном городке в Буйнакске, прогремевший 4 сентября, унес жизни 64 человек. Число погибших при взрыве жилого дома на улице Гурьянова в Москве 11 сентября составило более 90 человек, точное число жертв до сих пор не установлено. От взрыва пострадало 264 человека, из них 16 детей. Амбулаторная помощь оказана 157 пострадавшим, 46 человек госпитализированы. Во всех православных храмах сегодня будут совершены панихиды по погибшим от взрывов жилых домов в Москве и Буйнакске. В настоящее время основная версия взрыва на улице Гурьянова - теракт. Как сообщает ИТАР-ТАСС, экспертами ФСБ установлен \"преднамеренный\" характер взрыва, для \"инициации\" которого был использован \"временной замедлитель или радиоуправляемый дистанционный взрыватель\". На месте ЧП были обнаружены следы \"промышленных взрывчатых веществ\" - гексогена и тротила. Прокуратура Москвы, расследующая уголовное дело по факту взрыва, расследует две версии произошедшего. Помимо возможности террористического акта, следователи не исключают, что в помещениях находившегося на первом этаже взорвавшегося дома магазина был склад взрывчатых веществ, который по каким-то причинам мог взорваться. Пока дело квалифицировано по статье 168 УК РФ - неосторожное уничтожение имущества, повлекшее тяжкие последствия. Однако впоследствии оно может быть переквалифицировано. В ходе оперативно-розыскных мероприятий был выявлен вероятный круг лиц, которые могут быть прямо или косвенно причастны к взрыву в жилом доме на улице Гурьянова. Двое из них, в том числе предприниматель, сдавший в аренду помещение, в котором находился эпицентр взрыва, задержаны. На основании показаний очевидцев и ряда лиц, позвонивших по указанному ФСБ РФ телефону доверия, составлены фоторобот арендатора помещения, который завозил в него накануне взрыва многочисленные мешки и ящики. Установлена и фамилия этого гражданина (возможно, ненастоящая) - Лайпанов. Ведется его розыск. На месте трагедии спасатели МЧС завершили расчистку завалов и уборку обломков здания. Большинство жильцов пострадавшего от взрыва дома уже получили ордера на новые квартиры. По решению городских властей Москвы, взорванное здание  будут снесено. На его месте планируется разбить сквер в память о жертвах теракта. Рядом будет построен новый жилой дом - он будет располагаться на несколько десятков метров ближе к Москве-реке.\\ntopic: Россия\\ntags: Все\\ndate: 1999/09/13', metadata={'row': 209, 'source': 'data_input/test.csv', 'start_index': 0})]"
      ]
     },
     "execution_count": 72,
     "metadata": {},
     "output_type": "execute_result"
    }
   ],
   "source": [
    "answer"
   ]
  },
  {
   "cell_type": "code",
   "execution_count": 62,
   "metadata": {},
   "outputs": [
    {
     "name": "stdout",
     "output_type": "stream",
     "text": [
      "As far as I know, there is no information available about a \"Bulldog-hunter\" in Lille or any other location. It is possible that you may have come across a misunderstanding or misinformation. Could you please provide more context or clarify what you are looking for?\n"
     ]
    }
   ],
   "source": [
    "\n",
    "history = ''\n",
    "\n",
    "answer = chain.invoke({'question': query, \"conversation_history\": history})\n",
    "print(answer)"
   ]
  }
 ],
 "metadata": {
  "kernelspec": {
   "display_name": ".venv",
   "language": "python",
   "name": "python3"
  },
  "language_info": {
   "codemirror_mode": {
    "name": "ipython",
    "version": 3
   },
   "file_extension": ".py",
   "mimetype": "text/x-python",
   "name": "python",
   "nbconvert_exporter": "python",
   "pygments_lexer": "ipython3",
   "version": "3.11.8"
  }
 },
 "nbformat": 4,
 "nbformat_minor": 2
}
