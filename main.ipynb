{
 "cells": [
  {
   "cell_type": "code",
   "execution_count": 14,
   "metadata": {},
   "outputs": [],
   "source": [
    "from langchain.text_splitter import RecursiveCharacterTextSplitter\n",
    "from langchain_core.output_parsers import StrOutputParser\n",
    "from langchain.prompts import PromptTemplate\n",
    "from langchain.vectorstores import Chroma\n",
    "from langchain.document_loaders import CSVLoader\n",
    "\n",
    "from langchain_community.embeddings import OllamaEmbeddings\n",
    "from langchain_community.llms import Ollama"
   ]
  },
  {
   "cell_type": "code",
   "execution_count": 5,
   "metadata": {},
   "outputs": [],
   "source": [
    "loader = CSVLoader('data_input/test2.csv')\n",
    "big_df = loader.load()"
   ]
  },
  {
   "cell_type": "code",
   "execution_count": 6,
   "metadata": {},
   "outputs": [],
   "source": [
    "text_splitter = RecursiveCharacterTextSplitter(\n",
    "    chunk_size = 5000,\n",
    "    chunk_overlap = 100,\n",
    "    length_function = len,\n",
    "    add_start_index = True\n",
    ")"
   ]
  },
  {
   "cell_type": "code",
   "execution_count": 7,
   "metadata": {},
   "outputs": [],
   "source": [
    "chunks = text_splitter.split_documents(big_df)"
   ]
  },
  {
   "cell_type": "code",
   "execution_count": 12,
   "metadata": {},
   "outputs": [
    {
     "data": {
      "text/plain": [
       "26"
      ]
     },
     "execution_count": 12,
     "metadata": {},
     "output_type": "execute_result"
    }
   ],
   "source": [
    "len(chunks)"
   ]
  },
  {
   "cell_type": "code",
   "execution_count": 10,
   "metadata": {},
   "outputs": [],
   "source": [
    "embedings = OllamaEmbeddings(\n",
    "    model='all-minilm'\n",
    ")"
   ]
  },
  {
   "cell_type": "code",
   "execution_count": 11,
   "metadata": {},
   "outputs": [],
   "source": [
    "chromadb = Chroma.from_documents(chunks, embedings, persist_directory = 'vector_db', collection_name= 'vectors_test')"
   ]
  },
  {
   "cell_type": "code",
   "execution_count": 15,
   "metadata": {},
   "outputs": [],
   "source": [
    "# Prompt\n",
    "template = \"\"\"\n",
    "Answer the question based on the context below. If you can't \n",
    "answer the question, reply \"I don't know\".\n",
    "\n",
    "Conversation_history: {conversation_history}\n",
    "\n",
    "Context: {context}\n",
    "\n",
    "Question: {question}\n",
    "\"\"\"\n",
    "\n",
    "prompt = PromptTemplate.from_template(template)"
   ]
  },
  {
   "cell_type": "code",
   "execution_count": 16,
   "metadata": {},
   "outputs": [],
   "source": [
    "# Chain\n",
    "MODEL = 'llama2'\n",
    "model = Ollama(model=MODEL)\n",
    "parser = StrOutputParser()\n",
    "retriever = chromadb.as_retriever()\n",
    "\n",
    "from operator import itemgetter\n",
    "\n",
    "chain = (\n",
    "    {\n",
    "        \"context\": itemgetter(\"question\") | retriever,\n",
    "        \"conversation_history\": itemgetter(\"conversation_history\"),\n",
    "        \"question\": itemgetter(\"question\"),\n",
    "    }\n",
    "    | prompt\n",
    "    | model\n",
    "    | parser\n",
    ")"
   ]
  },
  {
   "cell_type": "code",
   "execution_count": 17,
   "metadata": {},
   "outputs": [
    {
     "name": "stdout",
     "output_type": "stream",
     "text": [
      "The reason why April was first called Sextilis in Latin is not definitively known, as the origins of Roman calendar names are not well-documented. However, there are several theories:\n",
      "\n",
      "1. Connection to the six days of the Roman week: In ancient Rome, the month was named after the sixth day of the Roman week, which was called \"Sexta.\" Therefore, it is possible that the name Sextilis was chosen because it was associated with the number six.\n",
      "2. Association with the star Sirius: The Romans believed that the star Sirius, also known as the Dog Star, rose on the sixth day after the spring equinox. As a result, some scholars suggest that Sextilis may have been named after this star.\n",
      "3. Connection to the goddess Venus: Some historians believe that Sextilis was named after the Roman goddess of love and beauty, Venus, who was associated with the sixth day of the week.\n",
      "4. Lunar cycle: Another theory is that Sextilis was named after the lunar cycle, with the sixth month corresponding to the start of the new lunar cycle.\n",
      "\n",
      "It's worth noting that the Roman calendar underwent several changes over time, and the names of the months were not always consistent or logical. The name \"April\" is derived from the Latin word \"aprilis,\" which may have been related to the verb \"aperire,\" meaning \"to open,\" possibly referring to the opening of buds and flowers in spring.\n"
     ]
    }
   ],
   "source": [
    "query = 'why month was first called Sextilis in Latin?'\n",
    "history = ''\n",
    "\n",
    "answer = chain.invoke({'question': query, \"conversation_history\": history})\n",
    "print(answer)"
   ]
  }
 ],
 "metadata": {
  "kernelspec": {
   "display_name": ".venv",
   "language": "python",
   "name": "python3"
  },
  "language_info": {
   "codemirror_mode": {
    "name": "ipython",
    "version": 3
   },
   "file_extension": ".py",
   "mimetype": "text/x-python",
   "name": "python",
   "nbconvert_exporter": "python",
   "pygments_lexer": "ipython3",
   "version": "3.11.8"
  }
 },
 "nbformat": 4,
 "nbformat_minor": 2
}
